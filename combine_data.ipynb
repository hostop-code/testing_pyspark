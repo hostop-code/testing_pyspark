{
 "cells": [
  {
   "cell_type": "code",
   "execution_count": null,
   "metadata": {},
   "outputs": [],
   "source": [
    "from pyspark.sql.functions import col, expr\n",
    "from pyspark.sql import SparkSession\n",
    "from pyspark.sql.types import StringType, IntegerType\n",
    "\n",
    "spark = SparkSession.builder \\\n",
    "    .appName(\"Import data\") \\\n",
    "    .enableHiveSupport() \\\n",
    "    .getOrCreate()\n",
    "    \n",
    "    \n",
    "\n",
    "# In Cluster\n",
    "# import findspark\n",
    "# findspark.init(\"/opt/spark\")\n",
    "\n",
    "# from pyspark.sql.functions import col, expr\n",
    "# from pyspark.sql import SparkSession\n",
    "# from pyspark.sql.types import StringType, IntegerType\n",
    "\n",
    "# spark = SparkSession.builder \\\n",
    "#     .appName(\"user1-gg\") \\\n",
    "#     .config(\"spark.executor.memory\", \"4g\") \\\n",
    "#     .config(\"spark.driver.memory\", \"4g\") \\\n",
    "#     .config(\"spark.dynamicAllocation.enabled\", \"true\") \\\n",
    "#     .config(\"spark.dynamicAllocation.minExecutors\", \"0\") \\\n",
    "#     .config(\"spark.dynamicAllocation.maxExecutors\", \"6\") \\\n",
    "#     .config(\"spark.shuffle.service.enabled\", \"true\") \\\n",
    "#     .config(\"spark.reducer.maxReqsInFlight\", \"4\") \\\n",
    "#     .config(\"spark.shuffle.io.retryWait\", \"10s\") \\\n",
    "#     .config(\"spark.shuffle.io.maxRetries\", \"5\") \\\n",
    "#     .config(\"spark.locality.wait\", \"10s\") \\\n",
    "#     .config(\"spark.memory.fraction\", \"0.6\") \\\n",
    "#     .config(\"spark.memory.fraction\", \"0.4\") \\\n",
    "#     .config(\"spark.scheduler.mode\", \"FAIR\") \\\n",
    "#     .enableHiveSupport() \\\n",
    "#     .getOrCreate()"
   ]
  },
  {
   "cell_type": "code",
   "execution_count": null,
   "metadata": {},
   "outputs": [],
   "source": [
    "spark"
   ]
  },
  {
   "cell_type": "markdown",
   "metadata": {},
   "source": [
    "## Taxi zone read"
   ]
  },
  {
   "cell_type": "code",
   "execution_count": null,
   "metadata": {},
   "outputs": [],
   "source": [
    "df_zone = spark.read.csv(\"../02.taxi_zones/taxi+_zone_lookup.csv\", header=True)\n",
    "df_zone.show(5)"
   ]
  },
  {
   "cell_type": "code",
   "execution_count": 5,
   "metadata": {},
   "outputs": [
    {
     "name": "stdout",
     "output_type": "stream",
     "text": [
      "+-----------+--------------------+---------------------+---------------+-------------+----------+---------+---------+-----------------+----------+---------+------------+--------+---------+-------+-------+---------+---------+\n",
      "|vendor_name|trip_pickup_datetime|trip_dropoff_datetime|passenger_count|trip_distance| start_lon|start_lat|rate_code|store_and_forward|   end_lon|  end_lat|payment_type|fare_amt|surcharge|mta_tax|tip_amt|tolls_amt|total_amt|\n",
      "+-----------+--------------------+---------------------+---------------+-------------+----------+---------+---------+-----------------+----------+---------+------------+--------+---------+-------+-------+---------+---------+\n",
      "|        VTS| 2009-01-04 02:52:00|  2009-01-04 03:02:00|              1|         2.63|-73.991957|40.721567|     null|             null|-73.993803|40.695922|        CASH|     8.9|      0.5|   null|    0.0|      0.0|      9.4|\n",
      "|        VTS| 2009-01-04 03:31:00|  2009-01-04 03:38:00|              3|         4.55|-73.982102| 40.73629|     null|             null| -73.95585| 40.76803|      Credit|    12.1|      0.5|   null|    2.0|      0.0|     14.6|\n",
      "|        VTS| 2009-01-03 15:43:00|  2009-01-03 15:57:00|              5|        10.35|-74.002587|40.739748|     null|             null|-73.869983|40.770225|      Credit|    23.7|      0.0|   null|   4.74|      0.0|    28.44|\n",
      "+-----------+--------------------+---------------------+---------------+-------------+----------+---------+---------+-----------------+----------+---------+------------+--------+---------+-------+-------+---------+---------+\n",
      "only showing top 3 rows\n",
      "\n"
     ]
    }
   ],
   "source": [
    "df_2009 = spark.read.parquet(\"../2009/yellow_taxi/yellow_tripdata_2009-01.parquet\")\n",
    "\n",
    "for column in df_2009.columns:\n",
    "    df_2009 = df_2009.withColumnRenamed(column, column.lower())\n",
    "df_2009.printSchema()\n",
    "df_2009.show(3)\n"
   ]
  },
  {
   "cell_type": "code",
   "execution_count": 6,
   "metadata": {},
   "outputs": [
    {
     "name": "stdout",
     "output_type": "stream",
     "text": [
      "root\n",
      " |-- vendor_id: string (nullable = true)\n",
      " |-- pickup_datetime: string (nullable = true)\n",
      " |-- dropoff_datetime: string (nullable = true)\n",
      " |-- passenger_count: long (nullable = true)\n",
      " |-- trip_distance: double (nullable = true)\n",
      " |-- pickup_longitude: double (nullable = true)\n",
      " |-- pickup_latitude: double (nullable = true)\n",
      " |-- rate_code: string (nullable = true)\n",
      " |-- store_and_fwd_flag: string (nullable = true)\n",
      " |-- dropoff_longitude: double (nullable = true)\n",
      " |-- dropoff_latitude: double (nullable = true)\n",
      " |-- payment_type: string (nullable = true)\n",
      " |-- fare_amount: double (nullable = true)\n",
      " |-- surcharge: double (nullable = true)\n",
      " |-- mta_tax: double (nullable = true)\n",
      " |-- tip_amount: double (nullable = true)\n",
      " |-- tolls_amount: double (nullable = true)\n",
      " |-- total_amount: double (nullable = true)\n",
      "\n",
      "+---------+-------------------+-------------------+---------------+-------------+------------------+---------------+---------+------------------+------------------+----------------+------------+-----------+---------+-------+----------+------------+------------+\n",
      "|vendor_id|    pickup_datetime|   dropoff_datetime|passenger_count|trip_distance|  pickup_longitude|pickup_latitude|rate_code|store_and_fwd_flag| dropoff_longitude|dropoff_latitude|payment_type|fare_amount|surcharge|mta_tax|tip_amount|tolls_amount|total_amount|\n",
      "+---------+-------------------+-------------------+---------------+-------------+------------------+---------------+---------+------------------+------------------+----------------+------------+-----------+---------+-------+----------+------------+------------+\n",
      "|      VTS|2010-01-26 07:41:00|2010-01-26 07:45:00|              1|         0.75|        -73.956778|       40.76775|        1|              null|        -73.965957|       40.765232|         CAS|        4.5|      0.0|    0.5|       0.0|         0.0|         5.0|\n",
      "|      DDS|2010-01-30 23:31:00|2010-01-30 23:46:12|              1|          5.9|-73.99611799999998|      40.763932|        1|              null|-73.98151199999998|       40.741193|         CAS|       15.3|      0.5|    0.5|       0.0|         0.0|        16.3|\n",
      "|      DDS|2010-01-18 20:22:20|2010-01-18 20:38:12|              1|          4.0|        -73.979673|       40.78379|        1|              null|-73.91785199999998|        40.87856|         CAS|       11.7|      0.5|    0.5|       0.0|         0.0|        12.7|\n",
      "+---------+-------------------+-------------------+---------------+-------------+------------------+---------------+---------+------------------+------------------+----------------+------------+-----------+---------+-------+----------+------------+------------+\n",
      "only showing top 3 rows\n",
      "\n"
     ]
    }
   ],
   "source": [
    "df_2010 = spark.read.parquet(\"../2010/yellow_taxi/yellow_tripdata_2010-01.parquet\")\n",
    "\n",
    "for column in df_2010.columns:\n",
    "    df_2010 = df_2010.withColumnRenamed(column, column.lower())\n",
    "df_2010.printSchema()\n",
    "df_2010.show(3)\n"
   ]
  },
  {
   "cell_type": "code",
   "execution_count": 18,
   "metadata": {},
   "outputs": [
    {
     "name": "stdout",
     "output_type": "stream",
     "text": [
      "root\n",
      " |-- vendorid: long (nullable = true)\n",
      " |-- tpep_pickup_datetime: timestamp (nullable = true)\n",
      " |-- tpep_dropoff_datetime: timestamp (nullable = true)\n",
      " |-- passenger_count: long (nullable = true)\n",
      " |-- trip_distance: double (nullable = true)\n",
      " |-- ratecodeid: long (nullable = true)\n",
      " |-- store_and_fwd_flag: string (nullable = true)\n",
      " |-- pulocationid: long (nullable = true)\n",
      " |-- dolocationid: long (nullable = true)\n",
      " |-- payment_type: long (nullable = true)\n",
      " |-- fare_amount: double (nullable = true)\n",
      " |-- extra: double (nullable = true)\n",
      " |-- mta_tax: double (nullable = true)\n",
      " |-- tip_amount: double (nullable = true)\n",
      " |-- tolls_amount: double (nullable = true)\n",
      " |-- improvement_surcharge: double (nullable = true)\n",
      " |-- total_amount: double (nullable = true)\n",
      " |-- congestion_surcharge: double (nullable = true)\n",
      " |-- airport_fee: double (nullable = true)\n",
      "\n",
      "+--------+--------------------+---------------------+---------------+-------------+----------+------------------+------------+------------+------------+-----------+-----+-------+----------+------------+---------------------+------------+--------------------+-----------+\n",
      "|vendorid|tpep_pickup_datetime|tpep_dropoff_datetime|passenger_count|trip_distance|ratecodeid|store_and_fwd_flag|pulocationid|dolocationid|payment_type|fare_amount|extra|mta_tax|tip_amount|tolls_amount|improvement_surcharge|total_amount|congestion_surcharge|airport_fee|\n",
      "+--------+--------------------+---------------------+---------------+-------------+----------+------------------+------------+------------+------------+-----------+-----+-------+----------+------------+---------------------+------------+--------------------+-----------+\n",
      "|       2| 2011-01-01 07:10:00|  2011-01-01 07:12:00|              4|          0.0|         1|              null|         145|         145|           1|        2.9|  0.5|    0.5|      0.28|         0.0|                  0.0|        4.18|                null|       null|\n",
      "|       2| 2011-01-01 07:04:00|  2011-01-01 07:13:00|              4|          0.0|         1|              null|         264|         264|           1|        5.7|  0.5|    0.5|      0.24|         0.0|                  0.0|        6.94|                null|       null|\n",
      "|       2| 2011-01-01 07:14:00|  2011-01-01 07:16:00|              4|          0.0|         1|              null|         264|         264|           1|        2.9|  0.5|    0.5|      1.11|         0.0|                  0.0|        5.01|                null|       null|\n",
      "+--------+--------------------+---------------------+---------------+-------------+----------+------------------+------------+------------+------------+-----------+-----+-------+----------+------------+---------------------+------------+--------------------+-----------+\n",
      "only showing top 3 rows\n",
      "\n"
     ]
    }
   ],
   "source": [
    "df_2011 = spark.read.parquet(\"../2011/yellow_taxi/yellow_tripdata_2011-01.parquet\").limit(1000)\n",
    "\n",
    "for column in df_2011.columns:\n",
    "    df_2011 = df_2011.withColumnRenamed(column, column.lower())\n",
    "df_2011.printSchema()\n",
    "df_2011.show(3)"
   ]
  },
  {
   "cell_type": "code",
   "execution_count": 19,
   "metadata": {},
   "outputs": [
    {
     "name": "stdout",
     "output_type": "stream",
     "text": [
      "root\n",
      " |-- vendorid: long (nullable = true)\n",
      " |-- tpep_pickup_datetime: timestamp (nullable = true)\n",
      " |-- tpep_dropoff_datetime: timestamp (nullable = true)\n",
      " |-- passenger_count: long (nullable = true)\n",
      " |-- trip_distance: double (nullable = true)\n",
      " |-- ratecodeid: long (nullable = true)\n",
      " |-- store_and_fwd_flag: string (nullable = true)\n",
      " |-- pulocationid: long (nullable = true)\n",
      " |-- dolocationid: long (nullable = true)\n",
      " |-- payment_type: long (nullable = true)\n",
      " |-- fare_amount: double (nullable = true)\n",
      " |-- extra: double (nullable = true)\n",
      " |-- mta_tax: double (nullable = true)\n",
      " |-- tip_amount: double (nullable = true)\n",
      " |-- tolls_amount: double (nullable = true)\n",
      " |-- improvement_surcharge: double (nullable = true)\n",
      " |-- total_amount: double (nullable = true)\n",
      " |-- congestion_surcharge: integer (nullable = true)\n",
      " |-- airport_fee: integer (nullable = true)\n",
      "\n",
      "+--------+--------------------+---------------------+---------------+-------------+----------+------------------+------------+------------+------------+-----------+-----+-------+----------+------------+---------------------+------------+--------------------+-----------+\n",
      "|vendorid|tpep_pickup_datetime|tpep_dropoff_datetime|passenger_count|trip_distance|ratecodeid|store_and_fwd_flag|pulocationid|dolocationid|payment_type|fare_amount|extra|mta_tax|tip_amount|tolls_amount|improvement_surcharge|total_amount|congestion_surcharge|airport_fee|\n",
      "+--------+--------------------+---------------------+---------------+-------------+----------+------------------+------------+------------+------------+-----------+-----+-------+----------+------------+---------------------+------------+--------------------+-----------+\n",
      "|       1| 2012-01-01 07:07:56|  2012-01-01 07:12:09|              1|          0.9|         1|                 N|         158|         231|           2|        4.9|  0.5|    0.5|       0.0|         0.0|                  0.0|         5.9|                null|       null|\n",
      "|       1| 2012-01-01 07:18:49|  2012-01-01 07:30:01|              1|          2.3|         1|                 N|         231|         164|           2|        8.5|  0.5|    0.5|       0.0|         0.0|                  0.0|         9.5|                null|       null|\n",
      "|       1| 2012-01-01 07:31:38|  2012-01-01 07:46:05|              1|          2.2|         1|                 N|         164|         148|           2|        9.3|  0.5|    0.5|       0.0|         0.0|                  0.0|        10.3|                null|       null|\n",
      "+--------+--------------------+---------------------+---------------+-------------+----------+------------------+------------+------------+------------+-----------+-----+-------+----------+------------+---------------------+------------+--------------------+-----------+\n",
      "only showing top 3 rows\n",
      "\n"
     ]
    }
   ],
   "source": [
    "df_2012 = spark.read.parquet(\"../2012/yellow_taxi/yellow_tripdata_2012-01.parquet\").limit(1000)\n",
    "\n",
    "for column in df_2012.columns:\n",
    "    df_2012 = df_2012.withColumnRenamed(column, column.lower())\n",
    "df_2012.printSchema()\n",
    "df_2012.show(3)"
   ]
  },
  {
   "cell_type": "code",
   "execution_count": 20,
   "metadata": {},
   "outputs": [
    {
     "name": "stdout",
     "output_type": "stream",
     "text": [
      "root\n",
      " |-- vendorid: long (nullable = true)\n",
      " |-- tpep_pickup_datetime: timestamp (nullable = true)\n",
      " |-- tpep_dropoff_datetime: timestamp (nullable = true)\n",
      " |-- passenger_count: long (nullable = true)\n",
      " |-- trip_distance: double (nullable = true)\n",
      " |-- ratecodeid: long (nullable = true)\n",
      " |-- store_and_fwd_flag: string (nullable = true)\n",
      " |-- pulocationid: long (nullable = true)\n",
      " |-- dolocationid: long (nullable = true)\n",
      " |-- payment_type: long (nullable = true)\n",
      " |-- fare_amount: double (nullable = true)\n",
      " |-- extra: double (nullable = true)\n",
      " |-- mta_tax: double (nullable = true)\n",
      " |-- tip_amount: double (nullable = true)\n",
      " |-- tolls_amount: double (nullable = true)\n",
      " |-- improvement_surcharge: double (nullable = true)\n",
      " |-- total_amount: double (nullable = true)\n",
      " |-- congestion_surcharge: integer (nullable = true)\n",
      " |-- airport_fee: integer (nullable = true)\n",
      "\n",
      "+--------+--------------------+---------------------+---------------+-------------+----------+------------------+------------+------------+------------+-----------+-----+-------+----------+------------+---------------------+------------+--------------------+-----------+\n",
      "|vendorid|tpep_pickup_datetime|tpep_dropoff_datetime|passenger_count|trip_distance|ratecodeid|store_and_fwd_flag|pulocationid|dolocationid|payment_type|fare_amount|extra|mta_tax|tip_amount|tolls_amount|improvement_surcharge|total_amount|congestion_surcharge|airport_fee|\n",
      "+--------+--------------------+---------------------+---------------+-------------+----------+------------------+------------+------------+------------+-----------+-----+-------+----------+------------+---------------------+------------+--------------------+-----------+\n",
      "|       2| 2013-01-01 07:39:00|  2013-01-01 07:55:00|              3|         3.86|         1|              null|         238|         116|           2|       15.0|  0.5|    0.5|       0.0|         0.0|                  0.0|        16.0|                null|       null|\n",
      "|       2| 2013-01-01 07:12:00|  2013-01-01 07:16:00|              5|          0.0|         1|              null|         264|         264|           1|        3.5|  0.5|    0.5|      0.12|         0.0|                  0.0|        4.62|                null|       null|\n",
      "|       2| 2013-01-01 07:02:00|  2013-01-01 07:03:00|              3|          0.0|         1|              null|         264|         264|           1|        2.5|  0.5|    0.5|      0.25|         0.0|                  0.0|        3.75|                null|       null|\n",
      "+--------+--------------------+---------------------+---------------+-------------+----------+------------------+------------+------------+------------+-----------+-----+-------+----------+------------+---------------------+------------+--------------------+-----------+\n",
      "only showing top 3 rows\n",
      "\n"
     ]
    }
   ],
   "source": [
    "df_2013 = spark.read.parquet(\"../2013/yellow_taxi/yellow_tripdata_2013-01.parquet\").limit(1000)\n",
    "\n",
    "for column in df_2013.columns:\n",
    "    df_2013 = df_2013.withColumnRenamed(column, column.lower())\n",
    "df_2013.printSchema()\n",
    "df_2013.show(3)"
   ]
  },
  {
   "cell_type": "code",
   "execution_count": 23,
   "metadata": {},
   "outputs": [],
   "source": [
    "combined_df = df_2011.union(df_2012).union(df_2013)\n",
    "\n",
    "# In Local\n",
    "combined_df.write.format(\"parquet\") \\\n",
    "    .mode(\"overwrite\") \\\n",
    "    .save(\"./result/yellow_taxi\")\n",
    "\n",
    "# In HIVE\n",
    "# combined_df.write.format(\"parquet\") \\\n",
    "#     .mode(\"overwrite\") \\\n",
    "#     .saveAsTable(\"yellow_taxi\") "
   ]
  },
  {
   "cell_type": "markdown",
   "metadata": {},
   "source": [
    "### Read Result combine ( Careful! High Task)"
   ]
  },
  {
   "cell_type": "code",
   "execution_count": 24,
   "metadata": {},
   "outputs": [
    {
     "name": "stdout",
     "output_type": "stream",
     "text": [
      "root\n",
      " |-- vendorid: long (nullable = true)\n",
      " |-- tpep_pickup_datetime: timestamp (nullable = true)\n",
      " |-- tpep_dropoff_datetime: timestamp (nullable = true)\n",
      " |-- passenger_count: long (nullable = true)\n",
      " |-- trip_distance: double (nullable = true)\n",
      " |-- ratecodeid: long (nullable = true)\n",
      " |-- store_and_fwd_flag: string (nullable = true)\n",
      " |-- pulocationid: long (nullable = true)\n",
      " |-- dolocationid: long (nullable = true)\n",
      " |-- payment_type: long (nullable = true)\n",
      " |-- fare_amount: double (nullable = true)\n",
      " |-- extra: double (nullable = true)\n",
      " |-- mta_tax: double (nullable = true)\n",
      " |-- tip_amount: double (nullable = true)\n",
      " |-- tolls_amount: double (nullable = true)\n",
      " |-- improvement_surcharge: double (nullable = true)\n",
      " |-- total_amount: double (nullable = true)\n",
      " |-- congestion_surcharge: double (nullable = true)\n",
      " |-- airport_fee: double (nullable = true)\n",
      "\n"
     ]
    },
    {
     "data": {
      "text/plain": [
       "3000"
      ]
     },
     "execution_count": 24,
     "metadata": {},
     "output_type": "execute_result"
    }
   ],
   "source": [
    "df_cobined = spark.read.parquet(\"./result/yellow_taxi\")\n",
    "df_cobined.count()"
   ]
  }
 ],
 "metadata": {
  "kernelspec": {
   "display_name": "Python 3",
   "language": "python",
   "name": "python3"
  },
  "language_info": {
   "codemirror_mode": {
    "name": "ipython",
    "version": 3
   },
   "file_extension": ".py",
   "mimetype": "text/x-python",
   "name": "python",
   "nbconvert_exporter": "python",
   "pygments_lexer": "ipython3",
   "version": "3.10.11"
  }
 },
 "nbformat": 4,
 "nbformat_minor": 2
}
