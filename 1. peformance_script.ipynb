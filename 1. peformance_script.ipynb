{
 "cells": [
  {
   "cell_type": "code",
   "execution_count": 1,
   "metadata": {},
   "outputs": [],
   "source": [
    "from pyspark.sql.functions import col, expr\n",
    "from pyspark.sql import SparkSession\n",
    "from pyspark.sql.types import StringType, IntegerType\n",
    "\n",
    "spark = SparkSession.builder \\\n",
    "    .appName(\"PeformanceCheck\") \\\n",
    "    .enableHiveSupport() \\\n",
    "    .getOrCreate()\n",
    "    \n",
    "# In Cluster\n",
    "# import findspark\n",
    "# findspark.init(\"/opt/spark\")\n",
    "\n",
    "# from pyspark.sql.functions import col, expr\n",
    "# from pyspark.sql import SparkSession\n",
    "# from pyspark.sql.types import StringType, IntegerType\n",
    "\n",
    "# spark = SparkSession.builder \\\n",
    "#     .appName(\"PeformanceCheck\") \\\n",
    "#     .config(\"spark.executor.memory\", \"4g\") \\\n",
    "#     .config(\"spark.driver.memory\", \"4g\") \\\n",
    "#     .config(\"spark.dynamicAllocation.enabled\", \"true\") \\\n",
    "#     .config(\"spark.dynamicAllocation.minExecutors\", \"0\") \\\n",
    "#     .config(\"spark.dynamicAllocation.maxExecutors\", \"6\") \\\n",
    "#     .config(\"spark.shuffle.service.enabled\", \"true\") \\\n",
    "#     .config(\"spark.reducer.maxReqsInFlight\", \"4\") \\\n",
    "#     .config(\"spark.shuffle.io.retryWait\", \"10s\") \\\n",
    "#     .config(\"spark.shuffle.io.maxRetries\", \"5\") \\\n",
    "#     .config(\"spark.locality.wait\", \"10s\") \\\n",
    "#     .config(\"spark.memory.fraction\", \"0.6\") \\\n",
    "#     .config(\"spark.memory.fraction\", \"0.4\") \\\n",
    "#     .config(\"spark.scheduler.mode\", \"FAIR\") \\\n",
    "#     .enableHiveSupport() \\\n",
    "#     .getOrCreate()"
   ]
  },
  {
   "cell_type": "code",
   "execution_count": 2,
   "metadata": {},
   "outputs": [
    {
     "data": {
      "text/html": [
       "\n",
       "            <div>\n",
       "                <p><b>SparkSession - hive</b></p>\n",
       "                \n",
       "        <div>\n",
       "            <p><b>SparkContext</b></p>\n",
       "\n",
       "            <p><a href=\"http://LAPTOP-5OV9FUS1:4041\">Spark UI</a></p>\n",
       "\n",
       "            <dl>\n",
       "              <dt>Version</dt>\n",
       "                <dd><code>v3.0.2</code></dd>\n",
       "              <dt>Master</dt>\n",
       "                <dd><code>local[*]</code></dd>\n",
       "              <dt>AppName</dt>\n",
       "                <dd><code>PeformanceCheck</code></dd>\n",
       "            </dl>\n",
       "        </div>\n",
       "        \n",
       "            </div>\n",
       "        "
      ],
      "text/plain": [
       "<pyspark.sql.session.SparkSession at 0x1ca61cc4850>"
      ]
     },
     "execution_count": 2,
     "metadata": {},
     "output_type": "execute_result"
    }
   ],
   "source": [
    "spark"
   ]
  },
  {
   "cell_type": "code",
   "execution_count": 4,
   "metadata": {},
   "outputs": [],
   "source": [
    "from pyspark.sql.functions import rand\n",
    "import time \n",
    "\n",
    "# Generate sample data\n",
    "num_rows = 100000000  # Adjust as needed\n",
    "data = spark.range(0, num_rows).withColumn(\"value\", rand())\n",
    "\n",
    "# Start time\n",
    "start_time = time.time()\n",
    "\n",
    "# Your Spark code here\n",
    "# For example, perform some transformations on the generated data\n",
    "result = data.groupBy(\"value\").count()\n",
    "\n",
    "# Show the result or perform other actions\n",
    "result.show()\n",
    "\n",
    "# End time\n",
    "end_time = time.time()\n",
    "\n",
    "# Calculate and print the execution time\n",
    "execution_time = end_time - start_time\n",
    "print(f\"Execution Time: {execution_time} seconds\")\n"
   ]
  }
 ],
 "metadata": {
  "kernelspec": {
   "display_name": "Python 3",
   "language": "python",
   "name": "python3"
  },
  "language_info": {
   "codemirror_mode": {
    "name": "ipython",
    "version": 3
   },
   "file_extension": ".py",
   "mimetype": "text/x-python",
   "name": "python",
   "nbconvert_exporter": "python",
   "pygments_lexer": "ipython3",
   "version": "3.10.11"
  }
 },
 "nbformat": 4,
 "nbformat_minor": 2
}
