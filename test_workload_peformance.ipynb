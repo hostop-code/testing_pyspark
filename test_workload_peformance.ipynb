{
 "cells": [
  {
   "cell_type": "code",
   "execution_count": 2,
   "metadata": {},
   "outputs": [],
   "source": [
    "from pyspark.sql.functions import col, expr\n",
    "from pyspark.sql import SparkSession\n",
    "from pyspark.sql.types import StringType, IntegerType\n",
    "\n",
    "spark = SparkSession.builder \\\n",
    "    .appName(\"Test workload to combine data\") \\\n",
    "    .enableHiveSupport() \\\n",
    "    .getOrCreate()\n",
    "    \n",
    "    \n",
    "\n",
    "# In Cluster\n",
    "# import findspark\n",
    "# findspark.init(\"/opt/spark\")\n",
    "\n",
    "# from pyspark.sql.functions import col, expr\n",
    "# from pyspark.sql import SparkSession\n",
    "# from pyspark.sql.types import StringType, IntegerType\n",
    "\n",
    "# spark = SparkSession.builder \\\n",
    "#     .appName(\"user1-gg\") \\\n",
    "#     .config(\"spark.executor.memory\", \"4g\") \\\n",
    "#     .config(\"spark.driver.memory\", \"4g\") \\\n",
    "#     .config(\"spark.dynamicAllocation.enabled\", \"true\") \\\n",
    "#     .config(\"spark.dynamicAllocation.minExecutors\", \"0\") \\\n",
    "#     .config(\"spark.dynamicAllocation.maxExecutors\", \"6\") \\\n",
    "#     .config(\"spark.shuffle.service.enabled\", \"true\") \\\n",
    "#     .config(\"spark.reducer.maxReqsInFlight\", \"4\") \\\n",
    "#     .config(\"spark.shuffle.io.retryWait\", \"10s\") \\\n",
    "#     .config(\"spark.shuffle.io.maxRetries\", \"5\") \\\n",
    "#     .config(\"spark.locality.wait\", \"10s\") \\\n",
    "#     .config(\"spark.memory.fraction\", \"0.6\") \\\n",
    "#     .config(\"spark.memory.fraction\", \"0.4\") \\\n",
    "#     .config(\"spark.scheduler.mode\", \"FAIR\") \\\n",
    "#     .enableHiveSupport() \\\n",
    "#     .getOrCreate()"
   ]
  },
  {
   "cell_type": "code",
   "execution_count": 3,
   "metadata": {},
   "outputs": [
    {
     "data": {
      "text/html": [
       "\n",
       "            <div>\n",
       "                <p><b>SparkSession - hive</b></p>\n",
       "                \n",
       "        <div>\n",
       "            <p><b>SparkContext</b></p>\n",
       "\n",
       "            <p><a href=\"http://LAPTOP-5OV9FUS1:4041\">Spark UI</a></p>\n",
       "\n",
       "            <dl>\n",
       "              <dt>Version</dt>\n",
       "                <dd><code>v3.0.2</code></dd>\n",
       "              <dt>Master</dt>\n",
       "                <dd><code>local[*]</code></dd>\n",
       "              <dt>AppName</dt>\n",
       "                <dd><code>Test workload to combine data</code></dd>\n",
       "            </dl>\n",
       "        </div>\n",
       "        \n",
       "            </div>\n",
       "        "
      ],
      "text/plain": [
       "<pyspark.sql.session.SparkSession at 0x1af4e1f5d80>"
      ]
     },
     "execution_count": 3,
     "metadata": {},
     "output_type": "execute_result"
    }
   ],
   "source": [
    "spark"
   ]
  },
  {
   "cell_type": "code",
   "execution_count": 7,
   "metadata": {},
   "outputs": [],
   "source": [
    "df = spark.read.parquet(\"./result/yellow_taxi\")\n",
    "\n",
    "# in Hive\n",
    "# df = spark.sql(\"SELECT * FROM yellow_taxi\")"
   ]
  },
  {
   "cell_type": "markdown",
   "metadata": {},
   "source": [
    "## (Hard Task - Combine dataframe) \n",
    "be careful"
   ]
  },
  {
   "cell_type": "code",
   "execution_count": 11,
   "metadata": {},
   "outputs": [],
   "source": [
    "combined_df = df.union(df)\\\n",
    "                .union(df)\\\n",
    "                .union(df)"
   ]
  },
  {
   "cell_type": "code",
   "execution_count": 10,
   "metadata": {},
   "outputs": [
    {
     "data": {
      "text/plain": [
       "12000"
      ]
     },
     "execution_count": 10,
     "metadata": {},
     "output_type": "execute_result"
    }
   ],
   "source": [
    "# In Local\n",
    "combined_df.write.parquet(\"./result/yellow_taxi_combined\")\n",
    "\n",
    "\n",
    "# In HIVE\n",
    "# combined_df.write.format(\"parquet\") \\\n",
    "#     .mode(\"overwrite\") \\\n",
    "#     .saveAsTable(\"yellow_taxi\") "
   ]
  }
 ],
 "metadata": {
  "kernelspec": {
   "display_name": "Python 3",
   "language": "python",
   "name": "python3"
  },
  "language_info": {
   "codemirror_mode": {
    "name": "ipython",
    "version": 3
   },
   "file_extension": ".py",
   "mimetype": "text/x-python",
   "name": "python",
   "nbconvert_exporter": "python",
   "pygments_lexer": "ipython3",
   "version": "3.10.11"
  }
 },
 "nbformat": 4,
 "nbformat_minor": 2
}
